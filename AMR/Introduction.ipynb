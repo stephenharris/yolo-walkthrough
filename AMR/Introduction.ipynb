{
 "cells": [
  {
   "cell_type": "markdown",
   "metadata": {},
   "source": [
    "# Automated Meter Reading\n",
    "\n",
    "This walk-through of an attempt to train Yolo to identify meter reading digits, and thus provide an automated meter reading solution, inspired by this paper: [*Convolutional Neural Networks for Automatic Meter Reading*][1] ([\\[1\\]][1]).\n",
    "\n",
    "Unlike the original paper we assume that the supplied image has been cropped (either manually, or automatically) to show only the counter with some additional margin. This could be achieved through an app by prompting the user to frame the counter within a box or - as in the above paper - through a prior application of Yolo.\n",
    "\n",
    "## Why Yolo?\n",
    "\n",
    "From initial manual testing (Python-tesseract, Amazon Rekognition, Amazon Textract) had very poor performance. Standard OCR techniques appear to struggle with meter readings - most likely because of numbers being rotated, pictures taken at an angle or the presence of segmented digits.\n",
    "\n",
    "In *Convolutional Neural Networks for Automatic Meter Reading*, the authors demonstrated promising results. In particular with Yolo-based model. Multi-Task and CRNN models were also tested, and performed well but not as well; they are also subject to inherit bias in meter reading counters which tend to start with lower numbers (i.e. 0 and 1) due to the nature in which they increment.\n",
    "\n",
    "\n",
    "## Proposal\n",
    "\n",
    "Train two models, one to identify the counter region, and then a second model to idetify the digits. We apply the first model to the original image of a meter, and then crop the image to the counter (applying a 20% padding). Then we apply to the second model to the resulting image to extract the meter reading.\n",
    "\n",
    "\n",
    "## Data\n",
    "\n",
    "620 images were sourced from Spark Energy, and these were manually annotated. They included mixture of gas and electric meters, and digital and non-digital displays. Although the Yolo software applies its own data-augmentation (adjust hue, adding noise), 620 images is too low to achieve reasonsable results so to migitgate this transfer learning will be applied. This allows you to use weights that have been trained from other datasets and use them to accelerate training your model.\n",
    "\n",
    "Other data augmentation could be applied (e.g. applying skew or rotation, which are not natively supported by Yolo at the time of writing). In [\\[1\\]][1] the authors also generated new images by swapping digit positions. However, for the Yolo-based model this only improved the model slightly and it was more beneficial to the other (Multi-Task and CRNN) models they tested, which do not segment the digits, and thus more susceptible to the bias. However, the Spark data does exhibit the same bias towards 0s and 1s in the first digits. For later positions the digits are far more evenly distributed. As seen below\n",
    "\n",
    "![Number of occurrences of each digit, grouped by position](fig1-digit-frequency.png)\n",
    "\n",
    "Note unlike in [\\[1\\]][1] the number of the digits in each counter varied between 4 and 8 (the counter of size 3, actually at 5 digits but 2 were unreadable)\n",
    "\n",
    "![Number of occurrences of each digit, grouped by position](fig2-counter-sizes.png)\n",
    "\n",
    "\n",
    "## References\n",
    "\n",
    "1. [Convolutional Neural Networks for Automatic Meter Reading][1] by Rayson Larocaa, Victor Barrosoa, Matheus A. Dinizb, Gabriel R. Gonc ̧alvesb,William Robson Schwartzb, David Menotti\n",
    "\n",
    "\n",
    "[1]: https://arxiv.org/pdf/1902.09600.pdf\n",
    "\n",
    "\n"
   ]
  },
  {
   "cell_type": "code",
   "execution_count": null,
   "metadata": {},
   "outputs": [],
   "source": []
  }
 ],
 "metadata": {
  "kernelspec": {
   "display_name": "Python 3",
   "language": "python",
   "name": "python3"
  },
  "language_info": {
   "codemirror_mode": {
    "name": "ipython",
    "version": 3
   },
   "file_extension": ".py",
   "mimetype": "text/x-python",
   "name": "python",
   "nbconvert_exporter": "python",
   "pygments_lexer": "ipython3",
   "version": "3.7.3"
  }
 },
 "nbformat": 4,
 "nbformat_minor": 2
}