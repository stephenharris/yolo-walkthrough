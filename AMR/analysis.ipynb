{
 "cells": [
  {
   "cell_type": "markdown",
   "metadata": {},
   "source": [
    "# Analysis\n",
    "\n",
    "After running the model against the 133 test images, only 2 where found to have failed to identify the counter region (one found the region, but it was too small to capture the full read)\n",
    "\n",
    "000647d\n",
    "\n",
    "<img src=\"./../results/testing/000647d-prediction.jpg\" alt=\"Drawing\" style=\"height: 300px;\"/>\n",
    "\n",
    "000668d\n",
    "<img src=\"./../results/testing/000668d-prediction.jpg\" alt=\"Drawing\" style=\"height: 300px;\"/>"
   ]
  },
  {
   "cell_type": "code",
   "execution_count": 14,
   "metadata": {},
   "outputs": [],
   "source": [
    "from __future__ import generators\n",
    "\n",
    "import os,sys,inspect\n",
    "currentdir = os.path.dirname(os.path.abspath(inspect.getfile(inspect.currentframe())))\n",
    "parentdir = os.path.dirname(currentdir)\n",
    "sys.path.insert(0,parentdir) \n",
    "\n",
    "import sys\n",
    "import os\n",
    "from pandas import *\n",
    "from yolo_lib.darknet import *\n",
    "from yolo_lib.non_maximal_suppression import *\n",
    "from yolo_lib.annotation import *\n",
    "import glob\n",
    "\n",
    "def get_reading(filename):\n",
    "    annotations = Annotation.create_from_file(filename)\n",
    "    # todo we sort by centreX here but leftX in prediction\n",
    "    annotations.sort(key=lambda annotation: annotation.centreX)\n",
    "    return (\"\".join(map(lambda annotation: str(annotation.className), annotations)))\n",
    "\n",
    "def get_predicted_reading(detections, overlap_threshold):\n",
    "    \n",
    "    predictions = list(map(lambda o: Prediction(\n",
    "        o[0].decode('utf-8'), \n",
    "        o[1],\n",
    "        o[2][0] - o[2][2]/2,\n",
    "        o[2][1] - o[2][3]/2,\n",
    "        o[2][2],\n",
    "        o[2][3]\n",
    "    ), detections)) \n",
    "\n",
    "    predictions = non_maximal_suppression(predictions, projected_overlap_coefficient, overlap_threshold) \n",
    "    predictions = predictions[:5] # take top 5 (ordered by confidence) TODO extend to variable coutner sizes\n",
    "    \n",
    "    # sort from left to right\n",
    "    predictions.sort(key=lambda prediction: prediction.leftx)\n",
    "    return str((\"\".join(map(lambda prediction: str(prediction.class_), predictions))))\n",
    "\n",
    "def score(threshold = .25, overlap_threshold = .15):\n",
    "    images = glob.glob( \"./../ufpramir/cropped/testing/*.jpg\")\n",
    "    #images = images[:1]\n",
    "    matches = 0\n",
    "    total = 0\n",
    "    for filename in images:\n",
    "\n",
    "        base = os.path.splitext(filename)[0]\n",
    "        ground_truth = base  + '.txt'\n",
    "        \n",
    "        actual = get_reading(ground_truth)\n",
    "        results = performDetect(\n",
    "            filename, \n",
    "            threshold, \n",
    "            \"./../cfg/counters-yolov3-tiny.cfg\", \n",
    "            \"./../weights/counters-yolov3-tiny-b633ebb_best.weights\", \n",
    "            \"./../cfg/counters.data\", \n",
    "            False, \n",
    "            False, \n",
    "            False\n",
    "        )\n",
    "        predictedReading = get_predicted_reading(results, overlap_threshold)\n",
    "            \n",
    "        if(actual == predictedReading):\n",
    "            matches = matches + 1\n",
    "\n",
    "        total =  total + 1\n",
    "        \n",
    "        #print('%s %s %s' %(filename, actual, predictedReading))\n",
    "        \n",
    "    return (matches/total)\n",
    "\n"
   ]
  },
  {
   "cell_type": "code",
   "execution_count": 15,
   "metadata": {},
   "outputs": [
    {
     "name": "stdout",
     "output_type": "stream",
     "text": [
      "0.7089084065244667\n"
     ]
    }
   ],
   "source": [
    "print(score(.25, .15))"
   ]
  },
  {
   "cell_type": "markdown",
   "metadata": {},
   "source": [
    "![alt](./../ufpramir/cropped/testing/meter1690-cropped.jpg)"
   ]
  },
  {
   "cell_type": "code",
   "execution_count": 7,
   "metadata": {},
   "outputs": [
    {
     "data": {
      "text/html": [
       "<div>\n",
       "<style scoped>\n",
       "    .dataframe tbody tr th:only-of-type {\n",
       "        vertical-align: middle;\n",
       "    }\n",
       "\n",
       "    .dataframe tbody tr th {\n",
       "        vertical-align: top;\n",
       "    }\n",
       "\n",
       "    .dataframe thead th {\n",
       "        text-align: right;\n",
       "    }\n",
       "</style>\n",
       "<table border=\"1\" class=\"dataframe\">\n",
       "  <thead>\n",
       "    <tr style=\"text-align: right;\">\n",
       "      <th></th>\n",
       "      <th>overlap threshold (poc)</th>\n",
       "      <th>accuracy</th>\n",
       "    </tr>\n",
       "  </thead>\n",
       "  <tbody>\n",
       "    <tr>\n",
       "      <th>0</th>\n",
       "      <td>0.00</td>\n",
       "      <td>0.690088</td>\n",
       "    </tr>\n",
       "    <tr>\n",
       "      <th>1</th>\n",
       "      <td>0.01</td>\n",
       "      <td>0.691343</td>\n",
       "    </tr>\n",
       "    <tr>\n",
       "      <th>2</th>\n",
       "      <td>0.02</td>\n",
       "      <td>0.691343</td>\n",
       "    </tr>\n",
       "    <tr>\n",
       "      <th>3</th>\n",
       "      <td>0.03</td>\n",
       "      <td>0.691343</td>\n",
       "    </tr>\n",
       "    <tr>\n",
       "      <th>4</th>\n",
       "      <td>0.04</td>\n",
       "      <td>0.690088</td>\n",
       "    </tr>\n",
       "    <tr>\n",
       "      <th>5</th>\n",
       "      <td>0.05</td>\n",
       "      <td>0.690088</td>\n",
       "    </tr>\n",
       "    <tr>\n",
       "      <th>6</th>\n",
       "      <td>0.06</td>\n",
       "      <td>0.690088</td>\n",
       "    </tr>\n",
       "    <tr>\n",
       "      <th>7</th>\n",
       "      <td>0.07</td>\n",
       "      <td>0.690088</td>\n",
       "    </tr>\n",
       "    <tr>\n",
       "      <th>8</th>\n",
       "      <td>0.08</td>\n",
       "      <td>0.690088</td>\n",
       "    </tr>\n",
       "    <tr>\n",
       "      <th>9</th>\n",
       "      <td>0.09</td>\n",
       "      <td>0.690088</td>\n",
       "    </tr>\n",
       "  </tbody>\n",
       "</table>\n",
       "</div>"
      ],
      "text/plain": [
       "   overlap threshold (poc)  accuracy\n",
       "0                     0.00  0.690088\n",
       "1                     0.01  0.691343\n",
       "2                     0.02  0.691343\n",
       "3                     0.03  0.691343\n",
       "4                     0.04  0.690088\n",
       "5                     0.05  0.690088\n",
       "6                     0.06  0.690088\n",
       "7                     0.07  0.690088\n",
       "8                     0.08  0.690088\n",
       "9                     0.09  0.690088"
      ]
     },
     "execution_count": 7,
     "metadata": {},
     "output_type": "execute_result"
    }
   ],
   "source": [
    "overlap_thresholds = list(map(lambda x: x/100, range(0, 100, 1)))\n",
    "scores = list();\n",
    "\n",
    "#for threshold in overlap_thresholds:\n",
    "#    scores.append(score(.25, threshold))\n",
    "\n",
    "#df = pd.DataFrame(zip(overlap_thresholds, scores),columns=['overlap threshold (poc)', 'accuracy'])\n",
    "\n",
    "df = pandas.read_csv('overlap-poc-threshold-b633ebb-detection-25.csv')\n",
    "df.head(10)"
   ]
  },
  {
   "cell_type": "code",
   "execution_count": 8,
   "metadata": {},
   "outputs": [
    {
     "data": {
      "text/plain": [
       "<matplotlib.axes._subplots.AxesSubplot at 0x7fd3f149ca90>"
      ]
     },
     "execution_count": 8,
     "metadata": {},
     "output_type": "execute_result"
    },
    {
     "data": {
      "image/png": "[encoded data removed]",
      "text/plain": [
       "<Figure size 432x288 with 1 Axes>"
      ]
     },
     "metadata": {
      "needs_background": "light"
     },
     "output_type": "display_data"
    }
   ],
   "source": [
    "df.plot.scatter(x='overlap threshold (poc)', y='accuracy')"
   ]
  },
  {
   "cell_type": "code",
   "execution_count": 10,
   "metadata": {},
   "outputs": [
    {
     "data": {
      "text/html": [
       "<div>\n",
       "<style scoped>\n",
       "    .dataframe tbody tr th:only-of-type {\n",
       "        vertical-align: middle;\n",
       "    }\n",
       "\n",
       "    .dataframe tbody tr th {\n",
       "        vertical-align: top;\n",
       "    }\n",
       "\n",
       "    .dataframe thead th {\n",
       "        text-align: right;\n",
       "    }\n",
       "</style>\n",
       "<table border=\"1\" class=\"dataframe\">\n",
       "  <thead>\n",
       "    <tr style=\"text-align: right;\">\n",
       "      <th></th>\n",
       "      <th>detection threshold</th>\n",
       "      <th>accuracy</th>\n",
       "    </tr>\n",
       "  </thead>\n",
       "  <tbody>\n",
       "    <tr>\n",
       "      <th>0</th>\n",
       "      <td>0.25</td>\n",
       "      <td>0.690088</td>\n",
       "    </tr>\n",
       "    <tr>\n",
       "      <th>1</th>\n",
       "      <td>0.26</td>\n",
       "      <td>0.685069</td>\n",
       "    </tr>\n",
       "    <tr>\n",
       "      <th>2</th>\n",
       "      <td>0.27</td>\n",
       "      <td>0.685069</td>\n",
       "    </tr>\n",
       "    <tr>\n",
       "      <th>3</th>\n",
       "      <td>0.28</td>\n",
       "      <td>0.685069</td>\n",
       "    </tr>\n",
       "    <tr>\n",
       "      <th>4</th>\n",
       "      <td>0.29</td>\n",
       "      <td>0.686324</td>\n",
       "    </tr>\n",
       "    <tr>\n",
       "      <th>5</th>\n",
       "      <td>0.30</td>\n",
       "      <td>0.680050</td>\n",
       "    </tr>\n",
       "    <tr>\n",
       "      <th>6</th>\n",
       "      <td>0.31</td>\n",
       "      <td>0.678795</td>\n",
       "    </tr>\n",
       "    <tr>\n",
       "      <th>7</th>\n",
       "      <td>0.32</td>\n",
       "      <td>0.675031</td>\n",
       "    </tr>\n",
       "    <tr>\n",
       "      <th>8</th>\n",
       "      <td>0.33</td>\n",
       "      <td>0.667503</td>\n",
       "    </tr>\n",
       "    <tr>\n",
       "      <th>9</th>\n",
       "      <td>0.34</td>\n",
       "      <td>0.663739</td>\n",
       "    </tr>\n",
       "    <tr>\n",
       "      <th>10</th>\n",
       "      <td>0.35</td>\n",
       "      <td>0.662484</td>\n",
       "    </tr>\n",
       "    <tr>\n",
       "      <th>11</th>\n",
       "      <td>0.36</td>\n",
       "      <td>0.657465</td>\n",
       "    </tr>\n",
       "    <tr>\n",
       "      <th>12</th>\n",
       "      <td>0.37</td>\n",
       "      <td>0.654956</td>\n",
       "    </tr>\n",
       "    <tr>\n",
       "      <th>13</th>\n",
       "      <td>0.38</td>\n",
       "      <td>0.652447</td>\n",
       "    </tr>\n",
       "    <tr>\n",
       "      <th>14</th>\n",
       "      <td>0.39</td>\n",
       "      <td>0.644918</td>\n",
       "    </tr>\n",
       "  </tbody>\n",
       "</table>\n",
       "</div>"
      ],
      "text/plain": [
       "    detection threshold  accuracy\n",
       "0                  0.25  0.690088\n",
       "1                  0.26  0.685069\n",
       "2                  0.27  0.685069\n",
       "3                  0.28  0.685069\n",
       "4                  0.29  0.686324\n",
       "5                  0.30  0.680050\n",
       "6                  0.31  0.678795\n",
       "7                  0.32  0.675031\n",
       "8                  0.33  0.667503\n",
       "9                  0.34  0.663739\n",
       "10                 0.35  0.662484\n",
       "11                 0.36  0.657465\n",
       "12                 0.37  0.654956\n",
       "13                 0.38  0.652447\n",
       "14                 0.39  0.644918"
      ]
     },
     "execution_count": 10,
     "metadata": {},
     "output_type": "execute_result"
    }
   ],
   "source": [
    "detection_thresholds = list(map(lambda x: x/100, range(25, 100, 1)))\n",
    "scores = list();\n",
    "\n",
    "#for threshold in detection_thresholds:\n",
    "#    scores.append(score(threshold, .15))\n",
    "\n",
    "#df2 = pd.DataFrame(zip(detection_thresholds, scores),columns=['detection threshold', 'accuracy'])\n",
    "#results_file = open(\"results/detection-threshold-b633ebb-poc-15.csv\", \"w\")\n",
    "#results_file.write(df2.to_csv(index=False))\n",
    "#results_file.close()\n",
    "\n",
    "df2 = pandas.read_csv('detection-threshold-b633ebb-poc-15.csv')\n",
    "df2.head(15)"
   ]
  },
  {
   "cell_type": "code",
   "execution_count": 11,
   "metadata": {},
   "outputs": [
    {
     "data": {
      "text/plain": [
       "<matplotlib.axes._subplots.AxesSubplot at 0x7fd3dfc3d198>"
      ]
     },
     "execution_count": 11,
     "metadata": {},
     "output_type": "execute_result"
    },
    {
     "data": {
      "image/png": "[encoded data removed]",
      "text/plain": [
       "<Figure size 432x288 with 1 Axes>"
      ]
     },
     "metadata": {
      "needs_background": "light"
     },
     "output_type": "display_data"
    }
   ],
   "source": [
    "df2.plot.scatter(x='detection threshold', y='accuracy')"
   ]
  },
  {
   "cell_type": "code",
   "execution_count": 6,
   "metadata": {},
   "outputs": [],
   "source": []
  },
  {
   "cell_type": "code",
   "execution_count": null,
   "metadata": {},
   "outputs": [],
   "source": []
  }
 ],
 "metadata": {
  "kernelspec": {
   "display_name": "Python 3",
   "language": "python",
   "name": "python3"
  },
  "language_info": {
   "codemirror_mode": {
    "name": "ipython",
    "version": 3
   },
   "file_extension": ".py",
   "mimetype": "text/x-python",
   "name": "python",
   "nbconvert_exporter": "python",
   "pygments_lexer": "ipython3",
   "version": "3.7.3"
  }
 },
 "nbformat": 4,
 "nbformat_minor": 2
}
