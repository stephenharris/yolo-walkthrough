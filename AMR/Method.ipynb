{
 "cells": [
  {
   "cell_type": "markdown",
   "metadata": {},
   "source": [
    "# Method\n",
    "\n",
    "For counter detection\n",
    "\n",
    "1. Model was pretrained on  UFPR data set (https://arxiv.org/pdf/1902.09600.pdf)\n",
    "2. From spark data set, picked anchors using k-means clustering (calc_anchors command).\n",
    "3. Weights were trained on the Spark data set\n",
    "\n",
    "For digit detection\n",
    "\n",
    "1. Model was pretrained on UFRP data set. \n",
    "2. Data set was generated from the intial Spark data set by applying the counter-detection model to it, and expanding the bounding box by 20%, and cropping that region. (In doing so it was found that all but 2 cases, all digits were within the cropped region). \n",
    "3. Digits in these cropped images were annotated\n",
    "4. K-means used again to generate k-means clustering\n",
    "5. weights were trained on the generated data set, with transfer learning from UFPR-data-trained model.\n",
    "\n"
   ]
  },
  {
   "cell_type": "code",
   "execution_count": null,
   "metadata": {},
   "outputs": [],
   "source": []
  }
 ],
 "metadata": {
  "kernelspec": {
   "display_name": "Python 3",
   "language": "python",
   "name": "python3"
  },
  "language_info": {
   "codemirror_mode": {
    "name": "ipython",
    "version": 3
   },
   "file_extension": ".py",
   "mimetype": "text/x-python",
   "name": "python",
   "nbconvert_exporter": "python",
   "pygments_lexer": "ipython3",
   "version": "3.7.3"
  }
 },
 "nbformat": 4,
 "nbformat_minor": 2
}
