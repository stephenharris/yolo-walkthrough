{
 "cells": [
  {
   "cell_type": "markdown",
   "metadata": {},
   "source": [
    "# Plotting ratios"
   ]
  },
  {
   "cell_type": "code",
   "execution_count": 5,
   "metadata": {},
   "outputs": [
    {
     "name": "stdout",
     "output_type": "stream",
     "text": [
      "395\n",
      "./../data/spark-meters/training/000481.txt\n",
      "./../data/spark-meters/training/000644d.txt\n"
     ]
    },
    {
     "data": {
      "image/png": "[encoded data removed]",
      "text/plain": [
       "<Figure size 432x288 with 1 Axes>"
      ]
     },
     "metadata": {
      "needs_background": "light"
     },
     "output_type": "display_data"
    }
   ],
   "source": [
    "import os,sys,inspect\n",
    "currentdir = os.path.dirname(os.path.abspath(inspect.getfile(inspect.currentframe())))\n",
    "parentdir = os.path.dirname(currentdir)\n",
    "sys.path.insert(0,parentdir) \n",
    "\n",
    "from yolo_lib.annotation import *\n",
    "from PIL import Image\n",
    "import glob\n",
    "import os\n",
    "import numpy as np\n",
    "from matplotlib import pyplot as plt \n",
    "from yolo_lib.annotation import *\n",
    "\n",
    "folder = './../data/spark-meters/training'\n",
    "txt_files = glob.glob( folder + \"/*.txt\")\n",
    "#txt_files = txt_files[:10]\n",
    "print(len(txt_files))\n",
    "\n",
    "ratios = np.array([])\n",
    "for filename in txt_files:\n",
    "\n",
    "    # Read\n",
    "    base = os.path.splitext(filename)[0]\n",
    "    imageFilename = base  + '.jpg'\n",
    "    \n",
    "    annotations = Annotation.create_from_file(filename)\n",
    "    \n",
    "    im = Image.open(imageFilename)\n",
    "    width, height = im.size\n",
    "    \n",
    "    if len(annotations) > 1 or len(annotations) < 1:\n",
    "        print(filename)\n",
    "\n",
    "    for annotation in annotations:\n",
    "    \n",
    "        abs_width = width*annotation.width\n",
    "        abs_height = height*annotation.height\n",
    "        \n",
    "        ratio = abs_width/abs_height\n",
    "        \n",
    "        if ratio < 1.7:\n",
    "            print(filename)\n",
    "        ratios = np.append(ratios,ratio)\n",
    "    \n",
    "    \n",
    "hist,bins = np.histogram(ratios) \n",
    "\n",
    "plt.hist(ratios) \n",
    "plt.title(\"histogram\") \n",
    "plt.show()"
   ]
  },
  {
   "cell_type": "code",
   "execution_count": null,
   "metadata": {},
   "outputs": [],
   "source": []
  }
 ],
 "metadata": {
  "kernelspec": {
   "display_name": "Python 3",
   "language": "python",
   "name": "python3"
  },
  "language_info": {
   "codemirror_mode": {
    "name": "ipython",
    "version": 3
   },
   "file_extension": ".py",
   "mimetype": "text/x-python",
   "name": "python",
   "nbconvert_exporter": "python",
   "pygments_lexer": "ipython3",
   "version": "3.7.3"
  }
 },
 "nbformat": 4,
 "nbformat_minor": 2
}
